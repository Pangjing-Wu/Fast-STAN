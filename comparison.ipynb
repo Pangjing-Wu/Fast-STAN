{
 "cells": [
  {
   "attachments": {},
   "cell_type": "markdown",
   "metadata": {},
   "source": [
    "# Comparison of Running Efficiency between STAN and Fast STAN\n",
    " \n",
    "Fast STAN accelerates the training and inference process by:\n",
    "1. Multi-processing inference. According to my experimental analysis, the inference process in STAN takes much more time than the fitting. It is necessary to parallelize the inference process when conducting experiments on a large dataset. Therefore, I forgo some not process-safe designs (e.g., the incremental test data cache in inference) to enable inference of the next item in a multi-process manner.\n",
    "2. Accelerate data operation. Making inferences by pandas' methods is significantly faster than the built-in methods. According to experimental results, it is about **5x faster** (within a single process) than the original STAN.\n",
    "3. Support out-of-order input. The previous implementation required the input data to be ordered by time stamp. Some data will miss if the input data is not ordered by session id. I dropped this requirement by sacrificing some fitting efficiency (i.e., it takes **3x longer** for fitting). But it is acceptable when compared with the cost savings of inference, let alone the flexibility and conciseness.\n",
    " \n",
    "Please note that multi-process inference can only be performed in an offline manner. It sacrifices some online natures to achieve faster inference. If you want to perform online inference, please refer to the original STAN [code](https://github.com/rn5l/session-rec/blob/master/algorithms/knn/stan.py)."
   ]
  },
  {
   "cell_type": "code",
   "execution_count": 1,
   "metadata": {},
   "outputs": [],
   "source": [
    "import glob\n",
    "\n",
    "import numpy as np\n",
    "import pandas as pd\n",
    "\n",
    "from stan import STAN, FastSTAN"
   ]
  },
  {
   "attachments": {},
   "cell_type": "markdown",
   "metadata": {},
   "source": [
    "## Loading Training & Test Data\n",
    "Here we perform our comparison experiment on a large scale recommendation dataset proposed by otto [(source)](https://www.kaggle.com/competitions/otto-recommender-system/data). It is an extremely large dataset that contains 12899779 session with 216716096 events in its training set, and 1671803 sessions with about 6928123 events in its test set."
   ]
  },
  {
   "cell_type": "code",
   "execution_count": 2,
   "metadata": {},
   "outputs": [
    {
     "data": {
      "text/html": [
       "<div>\n",
       "<style scoped>\n",
       "    .dataframe tbody tr th:only-of-type {\n",
       "        vertical-align: middle;\n",
       "    }\n",
       "\n",
       "    .dataframe tbody tr th {\n",
       "        vertical-align: top;\n",
       "    }\n",
       "\n",
       "    .dataframe thead th {\n",
       "        text-align: right;\n",
       "    }\n",
       "</style>\n",
       "<table border=\"1\" class=\"dataframe\">\n",
       "  <thead>\n",
       "    <tr style=\"text-align: right;\">\n",
       "      <th></th>\n",
       "      <th>session</th>\n",
       "      <th>aid</th>\n",
       "      <th>ts</th>\n",
       "      <th>type</th>\n",
       "    </tr>\n",
       "  </thead>\n",
       "  <tbody>\n",
       "    <tr>\n",
       "      <th>0</th>\n",
       "      <td>0</td>\n",
       "      <td>1517085</td>\n",
       "      <td>1659304800</td>\n",
       "      <td>0</td>\n",
       "    </tr>\n",
       "    <tr>\n",
       "      <th>1</th>\n",
       "      <td>0</td>\n",
       "      <td>1563459</td>\n",
       "      <td>1659304904</td>\n",
       "      <td>0</td>\n",
       "    </tr>\n",
       "    <tr>\n",
       "      <th>2</th>\n",
       "      <td>0</td>\n",
       "      <td>1309446</td>\n",
       "      <td>1659367439</td>\n",
       "      <td>0</td>\n",
       "    </tr>\n",
       "    <tr>\n",
       "      <th>3</th>\n",
       "      <td>0</td>\n",
       "      <td>16246</td>\n",
       "      <td>1659367719</td>\n",
       "      <td>0</td>\n",
       "    </tr>\n",
       "    <tr>\n",
       "      <th>4</th>\n",
       "      <td>0</td>\n",
       "      <td>1781822</td>\n",
       "      <td>1659367871</td>\n",
       "      <td>0</td>\n",
       "    </tr>\n",
       "    <tr>\n",
       "      <th>...</th>\n",
       "      <td>...</td>\n",
       "      <td>...</td>\n",
       "      <td>...</td>\n",
       "      <td>...</td>\n",
       "    </tr>\n",
       "    <tr>\n",
       "      <th>5261220</th>\n",
       "      <td>12899776</td>\n",
       "      <td>1737908</td>\n",
       "      <td>1661723987</td>\n",
       "      <td>0</td>\n",
       "    </tr>\n",
       "    <tr>\n",
       "      <th>5261221</th>\n",
       "      <td>12899777</td>\n",
       "      <td>384045</td>\n",
       "      <td>1661723976</td>\n",
       "      <td>0</td>\n",
       "    </tr>\n",
       "    <tr>\n",
       "      <th>5261222</th>\n",
       "      <td>12899777</td>\n",
       "      <td>384045</td>\n",
       "      <td>1661723986</td>\n",
       "      <td>0</td>\n",
       "    </tr>\n",
       "    <tr>\n",
       "      <th>5261223</th>\n",
       "      <td>12899778</td>\n",
       "      <td>561560</td>\n",
       "      <td>1661723983</td>\n",
       "      <td>0</td>\n",
       "    </tr>\n",
       "    <tr>\n",
       "      <th>5261224</th>\n",
       "      <td>12899778</td>\n",
       "      <td>32070</td>\n",
       "      <td>1661723994</td>\n",
       "      <td>0</td>\n",
       "    </tr>\n",
       "  </tbody>\n",
       "</table>\n",
       "<p>216716096 rows × 4 columns</p>\n",
       "</div>"
      ],
      "text/plain": [
       "          session      aid          ts  type\n",
       "0               0  1517085  1659304800     0\n",
       "1               0  1563459  1659304904     0\n",
       "2               0  1309446  1659367439     0\n",
       "3               0    16246  1659367719     0\n",
       "4               0  1781822  1659367871     0\n",
       "...           ...      ...         ...   ...\n",
       "5261220  12899776  1737908  1661723987     0\n",
       "5261221  12899777   384045  1661723976     0\n",
       "5261222  12899777   384045  1661723986     0\n",
       "5261223  12899778   561560  1661723983     0\n",
       "5261224  12899778    32070  1661723994     0\n",
       "\n",
       "[216716096 rows x 4 columns]"
      ]
     },
     "execution_count": 2,
     "metadata": {},
     "output_type": "execute_result"
    }
   ],
   "source": [
    "def load_session(path):\n",
    "    file = glob.glob(path)\n",
    "    data = [pd.read_parquet(f, engine='fastparquet') for f in file]\n",
    "    data = pd.concat(data, axis=0)\n",
    "    data = data.sort_values(by=['session', 'ts'], ascending=[True, True]).reindex()\n",
    "    data['ts'] = data['ts'] // 1000\n",
    "    return data\n",
    "    \n",
    "train_data = load_session('./data/otto/train_*_20.parquet')\n",
    "test_data  = load_session('./data/otto/test_?_5.parquet')\n",
    "train_data"
   ]
  },
  {
   "cell_type": "markdown",
   "metadata": {},
   "source": [
    "Setting skip mask for original `STAN` so as to only make inference on the last event for each session."
   ]
  },
  {
   "cell_type": "code",
   "execution_count": 3,
   "metadata": {},
   "outputs": [
    {
     "data": {
      "text/html": [
       "<div>\n",
       "<style scoped>\n",
       "    .dataframe tbody tr th:only-of-type {\n",
       "        vertical-align: middle;\n",
       "    }\n",
       "\n",
       "    .dataframe tbody tr th {\n",
       "        vertical-align: top;\n",
       "    }\n",
       "\n",
       "    .dataframe thead th {\n",
       "        text-align: right;\n",
       "    }\n",
       "</style>\n",
       "<table border=\"1\" class=\"dataframe\">\n",
       "  <thead>\n",
       "    <tr style=\"text-align: right;\">\n",
       "      <th></th>\n",
       "      <th>session</th>\n",
       "      <th>aid</th>\n",
       "      <th>ts</th>\n",
       "      <th>type</th>\n",
       "      <th>skip</th>\n",
       "    </tr>\n",
       "  </thead>\n",
       "  <tbody>\n",
       "    <tr>\n",
       "      <th>0</th>\n",
       "      <td>12899779</td>\n",
       "      <td>59625</td>\n",
       "      <td>1661724000</td>\n",
       "      <td>0</td>\n",
       "      <td>False</td>\n",
       "    </tr>\n",
       "    <tr>\n",
       "      <th>1</th>\n",
       "      <td>12899780</td>\n",
       "      <td>1142000</td>\n",
       "      <td>1661724000</td>\n",
       "      <td>0</td>\n",
       "      <td>True</td>\n",
       "    </tr>\n",
       "    <tr>\n",
       "      <th>2</th>\n",
       "      <td>12899780</td>\n",
       "      <td>582732</td>\n",
       "      <td>1661724058</td>\n",
       "      <td>0</td>\n",
       "      <td>True</td>\n",
       "    </tr>\n",
       "    <tr>\n",
       "      <th>3</th>\n",
       "      <td>12899780</td>\n",
       "      <td>973453</td>\n",
       "      <td>1661724109</td>\n",
       "      <td>0</td>\n",
       "      <td>True</td>\n",
       "    </tr>\n",
       "    <tr>\n",
       "      <th>4</th>\n",
       "      <td>12899780</td>\n",
       "      <td>736515</td>\n",
       "      <td>1661724136</td>\n",
       "      <td>0</td>\n",
       "      <td>True</td>\n",
       "    </tr>\n",
       "    <tr>\n",
       "      <th>5</th>\n",
       "      <td>12899780</td>\n",
       "      <td>1142000</td>\n",
       "      <td>1661724155</td>\n",
       "      <td>0</td>\n",
       "      <td>False</td>\n",
       "    </tr>\n",
       "    <tr>\n",
       "      <th>6</th>\n",
       "      <td>12899781</td>\n",
       "      <td>141736</td>\n",
       "      <td>1661724000</td>\n",
       "      <td>0</td>\n",
       "      <td>True</td>\n",
       "    </tr>\n",
       "    <tr>\n",
       "      <th>7</th>\n",
       "      <td>12899781</td>\n",
       "      <td>199008</td>\n",
       "      <td>1661724022</td>\n",
       "      <td>0</td>\n",
       "      <td>True</td>\n",
       "    </tr>\n",
       "    <tr>\n",
       "      <th>8</th>\n",
       "      <td>12899781</td>\n",
       "      <td>57315</td>\n",
       "      <td>1661724170</td>\n",
       "      <td>0</td>\n",
       "      <td>True</td>\n",
       "    </tr>\n",
       "    <tr>\n",
       "      <th>9</th>\n",
       "      <td>12899781</td>\n",
       "      <td>194067</td>\n",
       "      <td>1661724246</td>\n",
       "      <td>0</td>\n",
       "      <td>True</td>\n",
       "    </tr>\n",
       "  </tbody>\n",
       "</table>\n",
       "</div>"
      ],
      "text/plain": [
       "    session      aid          ts  type   skip\n",
       "0  12899779    59625  1661724000     0  False\n",
       "1  12899780  1142000  1661724000     0   True\n",
       "2  12899780   582732  1661724058     0   True\n",
       "3  12899780   973453  1661724109     0   True\n",
       "4  12899780   736515  1661724136     0   True\n",
       "5  12899780  1142000  1661724155     0  False\n",
       "6  12899781   141736  1661724000     0   True\n",
       "7  12899781   199008  1661724022     0   True\n",
       "8  12899781    57315  1661724170     0   True\n",
       "9  12899781   194067  1661724246     0   True"
      ]
     },
     "execution_count": 3,
     "metadata": {},
     "output_type": "execute_result"
    }
   ],
   "source": [
    "skip_mask    = np.ones(test_data.shape[0]).astype(bool)\n",
    "not_skip_idx = test_data.groupby('session').size().values.cumsum() - 1\n",
    "skip_mask[not_skip_idx] = False\n",
    "test_data['skip'] = skip_mask\n",
    "test_data.head(10)"
   ]
  },
  {
   "attachments": {},
   "cell_type": "markdown",
   "metadata": {},
   "source": [
    "## Comparing Running Time\n",
    "I compare the running time of model fitting and inference. The results show the original STAN is 3x faster than FastSTAN in model fitting, but the FastSTAN is 5x faster than the original STAN in next item inference. When encounter a large test set, the FastSTAN can significantly save the computing cost."
   ]
  },
  {
   "cell_type": "code",
   "execution_count": 4,
   "metadata": {},
   "outputs": [],
   "source": [
    "stan = STAN(k=1500, sample_size=2500, lambda_spw=0.905, \n",
    "            lambda_snh=100, lambda_inh=0.4525, extend=True,\n",
    "            session_key='session', item_key='aid', time_key='ts')\n",
    "stan.fit(train_data)"
   ]
  },
  {
   "cell_type": "code",
   "execution_count": 5,
   "metadata": {},
   "outputs": [
    {
     "name": "stdout",
     "output_type": "stream",
     "text": [
      "10.6 s ± 384 ms per loop (mean ± std. dev. of 7 runs, 1 loop each)\n"
     ]
    }
   ],
   "source": [
    "%%timeit\n",
    "for i in test_data.loc[test_data.session == 12899780].itertuples(index=False):\n",
    "    ret = stan.predict_next(i.session, i.aid, train_data.aid.unique(), timestamp=i.ts, skip=i.skip)"
   ]
  },
  {
   "cell_type": "code",
   "execution_count": 6,
   "metadata": {},
   "outputs": [
    {
     "data": {
      "text/plain": [
       "1142000    244.889338\n",
       "582732      14.541701\n",
       "736515      11.778748\n",
       "973453       6.289222\n",
       "1502122      1.526870\n",
       "              ...    \n",
       "1610597      0.000000\n",
       "1501996      0.000000\n",
       "1460857      0.000000\n",
       "1135857      0.000000\n",
       "853626       0.000000\n",
       "Length: 1855603, dtype: float64"
      ]
     },
     "execution_count": 6,
     "metadata": {},
     "output_type": "execute_result"
    }
   ],
   "source": [
    "for i in test_data.loc[test_data.session == 12899780].itertuples(index=False):\n",
    "    ret = stan.predict_next(i.session, i.aid, train_data.aid.unique(), timestamp=i.ts, skip=i.skip)\n",
    "ret.sort_values(ascending=False)"
   ]
  },
  {
   "cell_type": "code",
   "execution_count": 7,
   "metadata": {},
   "outputs": [],
   "source": [
    "fast_stan = FastSTAN(k=1500, sample_size=2500, sampling='recent', remind=True, \n",
    "                     lambda_spw=0.905, lambda_snh=100, lambda_inh=0.4525,\n",
    "                     session_key='session', item_key='aid', time_key='ts')\n",
    "fast_stan.fit(train_data)"
   ]
  },
  {
   "cell_type": "code",
   "execution_count": 8,
   "metadata": {},
   "outputs": [
    {
     "name": "stdout",
     "output_type": "stream",
     "text": [
      "2.33 s ± 98.8 ms per loop (mean ± std. dev. of 7 runs, 1 loop each)\n"
     ]
    }
   ],
   "source": [
    "%%timeit\n",
    "ret = fast_stan.predict_next(test_data.loc[test_data.session == 12899780], reference=train_data.aid.unique())"
   ]
  },
  {
   "cell_type": "code",
   "execution_count": 9,
   "metadata": {},
   "outputs": [
    {
     "data": {
      "text/plain": [
       "1142000    244.889338\n",
       "582732      14.541701\n",
       "736515      11.778748\n",
       "973453       6.289222\n",
       "1502122      1.526870\n",
       "              ...    \n",
       "1610597      0.000000\n",
       "1501996      0.000000\n",
       "1460857      0.000000\n",
       "1135857      0.000000\n",
       "853626       0.000000\n",
       "Length: 1855603, dtype: float64"
      ]
     },
     "execution_count": 9,
     "metadata": {},
     "output_type": "execute_result"
    }
   ],
   "source": [
    "ret = fast_stan.predict_next(test_data.loc[test_data.session == 12899780], reference=train_data.aid.unique())\n",
    "ret.sort_values(ascending=False)"
   ]
  }
 ],
 "metadata": {
  "kernelspec": {
   "display_name": "Python 3.10.6 ('pytorch113')",
   "language": "python",
   "name": "python3"
  },
  "language_info": {
   "codemirror_mode": {
    "name": "ipython",
    "version": 3
   },
   "file_extension": ".py",
   "mimetype": "text/x-python",
   "name": "python",
   "nbconvert_exporter": "python",
   "pygments_lexer": "ipython3",
   "version": "3.10.6 (main, Oct 24 2022, 16:07:47) [GCC 11.2.0]"
  },
  "orig_nbformat": 4,
  "vscode": {
   "interpreter": {
    "hash": "2bb10f10134f2bf5ca2a864bd53c029d74c6308f2c9416c112ff55b544f746c6"
   }
  }
 },
 "nbformat": 4,
 "nbformat_minor": 2
}
